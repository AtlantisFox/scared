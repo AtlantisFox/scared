{
 "cells": [
  {
   "cell_type": "code",
   "execution_count": 1,
   "metadata": {},
   "outputs": [],
   "source": [
    "from estoolkit2.stat_tools import distinguisher\n",
    "import numpy as np"
   ]
  },
  {
   "cell_type": "code",
   "execution_count": 2,
   "metadata": {},
   "outputs": [],
   "source": [
    "a = distinguisher.ANOVA()"
   ]
  },
  {
   "cell_type": "code",
   "execution_count": 3,
   "metadata": {},
   "outputs": [],
   "source": [
    "data = {}"
   ]
  },
  {
   "cell_type": "code",
   "execution_count": 4,
   "metadata": {},
   "outputs": [],
   "source": [
    "traces_1 = np.random.randint(0, 255, (10, 20), dtype='uint8')\n",
    "data_1 = np.random.randint(0, 8, (10, 16), dtype='uint8')\n",
    "\n",
    "traces_2 = np.random.randint(0, 255, (5, 20), dtype='uint8')\n",
    "data_2 = np.random.randint(0, 8, (5, 16), dtype='uint8')"
   ]
  },
  {
   "cell_type": "code",
   "execution_count": 5,
   "metadata": {},
   "outputs": [],
   "source": [
    "data['traces_1'] = traces_1\n",
    "data['traces_2'] = traces_2\n",
    "data['data_1'] = data_1\n",
    "data['data_2'] = data_2"
   ]
  },
  {
   "cell_type": "code",
   "execution_count": 6,
   "metadata": {},
   "outputs": [
    {
     "name": "stderr",
     "output_type": "stream",
     "text": [
      "UserWarning: Partitions set to: range(9)\n"
     ]
    }
   ],
   "source": [
    "a.initialize(max_data=8, n_data=16, t_trace=20)"
   ]
  },
  {
   "cell_type": "code",
   "execution_count": 7,
   "metadata": {},
   "outputs": [],
   "source": [
    "a.update(traces=traces_1, data=data_1)"
   ]
  },
  {
   "cell_type": "code",
   "execution_count": 8,
   "metadata": {},
   "outputs": [],
   "source": [
    "data['counters_1'] = np.copy(a.counters)\n",
    "data['e1_1'] = np.copy(a.E1)\n",
    "data['e2_1'] = np.copy(a.E2)\n",
    "data['processed_traces_1'] = np.copy(a.processed_traces)"
   ]
  },
  {
   "cell_type": "code",
   "execution_count": 9,
   "metadata": {},
   "outputs": [],
   "source": [
    "a.update(traces=traces_2, data=data_2)"
   ]
  },
  {
   "cell_type": "code",
   "execution_count": 10,
   "metadata": {},
   "outputs": [],
   "source": [
    "data['counters_2'] = a.counters\n",
    "data['e1_2'] = a.E1\n",
    "data['e2_2'] = a.E2\n",
    "data['processed_traces_2'] = a.processed_traces"
   ]
  },
  {
   "cell_type": "code",
   "execution_count": 11,
   "metadata": {},
   "outputs": [],
   "source": [
    "data['result_anova'] = a.compute()"
   ]
  },
  {
   "cell_type": "code",
   "execution_count": 12,
   "metadata": {},
   "outputs": [],
   "source": [
    "a = distinguisher.NICV()"
   ]
  },
  {
   "cell_type": "code",
   "execution_count": 13,
   "metadata": {},
   "outputs": [
    {
     "name": "stderr",
     "output_type": "stream",
     "text": [
      "UserWarning: Partitions set to: range(9)\n"
     ]
    }
   ],
   "source": [
    "a.initialize(max_data=8, n_data=16, t_trace=20)\n",
    "a.update(traces=traces_1, data=data_1)\n",
    "a.update(traces=traces_2, data=data_2)"
   ]
  },
  {
   "cell_type": "code",
   "execution_count": 14,
   "metadata": {},
   "outputs": [],
   "source": [
    "data['result_nicv'] = a.compute()"
   ]
  },
  {
   "cell_type": "code",
   "execution_count": 15,
   "metadata": {},
   "outputs": [],
   "source": [
    "a = distinguisher.SNR()"
   ]
  },
  {
   "cell_type": "code",
   "execution_count": 16,
   "metadata": {},
   "outputs": [
    {
     "name": "stderr",
     "output_type": "stream",
     "text": [
      "UserWarning: Partitions set to: range(9)\n"
     ]
    }
   ],
   "source": [
    "a.initialize(max_data=8, n_data=16, t_trace=20)\n",
    "a.update(traces=traces_1, data=data_1)\n",
    "a.update(traces=traces_2, data=data_2)"
   ]
  },
  {
   "cell_type": "code",
   "execution_count": 17,
   "metadata": {},
   "outputs": [],
   "source": [
    "data['result_snr'] = a.compute()"
   ]
  },
  {
   "cell_type": "code",
   "execution_count": 18,
   "metadata": {},
   "outputs": [],
   "source": [
    "np.savez('tests_partitioned_distinguishers.npz', **data)"
   ]
  }
 ],
 "metadata": {
  "kernelspec": {
   "display_name": "Python 3",
   "language": "python",
   "name": "python3"
  },
  "language_info": {
   "codemirror_mode": {
    "name": "ipython",
    "version": 3
   },
   "file_extension": ".py",
   "mimetype": "text/x-python",
   "name": "python",
   "nbconvert_exporter": "python",
   "pygments_lexer": "ipython3",
   "version": "3.6.0"
  }
 },
 "nbformat": 4,
 "nbformat_minor": 2
}
